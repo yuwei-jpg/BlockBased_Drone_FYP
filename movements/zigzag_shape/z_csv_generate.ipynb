{
 "cells": [
  {
   "cell_type": "code",
   "execution_count": null,
   "id": "initial_id",
   "metadata": {
    "collapsed": true
   },
   "outputs": [],
   "source": [
    "import numpy as np\n",
    "import pandas as pd\n",
    "\n",
    "\n",
    "z_length = 20 \n",
    "z_width = 10 \n",
    "num_segments = 3  \n",
    "points_per_segment = 50  \n",
    "total_points = num_segments * points_per_segment  \n",
    "duration = 20 \n",
    "z_height = 5  \n",
    "\n",
    "# calculate the time step\n",
    "t_values = np.linspace(0, duration, total_points)\n",
    "\n",
    "# generate Z path\n",
    "px_values = np.concatenate([\n",
    "    np.linspace(0, z_width, points_per_segment),  # left --> right\n",
    "    np.linspace(z_width, 0, points_per_segment),  # right --> left\n",
    "    np.linspace(0, z_width, points_per_segment)   # left --> right\n",
    "])\n",
    "\n",
    "py_values = np.concatenate([\n",
    "    np.linspace(0, z_length / 2, points_per_segment),  \n",
    "    np.linspace(z_length / 2, z_length, points_per_segment),  \n",
    "    np.linspace(z_length, z_length * 1.5, points_per_segment) \n",
    "])\n",
    "\n",
    "pz_values = np.full(total_points, -z_height)  # fix height\n",
    "\n",
    "# calculate speed vx, vy\n",
    "vx_values = np.gradient(px_values) / np.gradient(t_values)\n",
    "vy_values = np.gradient(py_values) / np.gradient(t_values)\n",
    "vz_values = np.zeros(total_points)  # no changes on height\n",
    "\n",
    "# angel and mode\n",
    "yaw_values = np.zeros(total_points)  # no changes on yaw\n",
    "mode_values = np.full(total_points, 70)  \n",
    "\n",
    "# create data frame\n",
    "df = pd.DataFrame({\n",
    "    \"idx\": range(total_points),\n",
    "    \"t\": t_values,\n",
    "    \"px\": px_values,\n",
    "    \"py\": py_values,\n",
    "    \"pz\": pz_values,\n",
    "    \"vx\": vx_values,\n",
    "    \"vy\": vy_values,\n",
    "    \"vz\": vz_values,\n",
    "    \"ax\": np.zeros(total_points), \n",
    "    \"ay\": np.zeros(total_points),\n",
    "    \"az\": np.zeros(total_points),\n",
    "    \"yaw\": yaw_values,\n",
    "    \"mode\": mode_values\n",
    "})\n",
    "\n",
    "# save CSV file\n",
    "csv_filename = \"/movements/zigzag_shape/z_trajectory.csv\"\n",
    "df.to_csv(csv_filename, index=False)\n",
    "print(f\"Zigzag trajectory CSV generation completed! File path: {csv_filename}\")\n"
   ]
  }
 ],
 "metadata": {
  "kernelspec": {
   "display_name": "Python 3",
   "language": "python",
   "name": "python3"
  },
  "language_info": {
   "codemirror_mode": {
    "name": "ipython",
    "version": 2
   },
   "file_extension": ".py",
   "mimetype": "text/x-python",
   "name": "python",
   "nbconvert_exporter": "python",
   "pygments_lexer": "ipython2",
   "version": "2.7.6"
  }
 },
 "nbformat": 4,
 "nbformat_minor": 5
}
